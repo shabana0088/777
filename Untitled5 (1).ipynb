{
  "nbformat": 4,
  "nbformat_minor": 0,
  "metadata": {
    "colab": {
      "provenance": []
    },
    "kernelspec": {
      "name": "python3",
      "display_name": "Python 3"
    },
    "language_info": {
      "name": "python"
    }
  },
  "cells": [
    {
      "cell_type": "code",
      "source": [
        "import torch\n",
        "import torch.nn as nn\n",
        "import torch.nn.functional as F\n",
        "\n",
        "# Define the neural network\n",
        "class NeuralNetwork(nn.Module):\n",
        "    def __init__(self):\n",
        "        super(NeuralNetwork, self).__init__()\n",
        "        self.hidden_layer = nn.Linear(2, 3)\n",
        "        self.output_layer = nn.Linear(3, 1)\n",
        "        self.activation = nn.Tanh()\n",
        "        # يمكن استخدام torch.tensor لتحديد bias مخصص\n",
        "        self.b1 = torch.tensor(0.5)  # مثال: 0.5 كبايس أول\n",
        "        self.b2 = torch.tensor(0.7)  # البايس الثاني\n",
        "\n",
        "    def forward(self, x):\n",
        "        x = self.activation(self.hidden_layer(x) + self.b1)\n",
        "        x = self.activation(self.output_layer(x) + self.b2)\n",
        "        return x\n",
        "\n",
        "# Create an instance of the neural network\n",
        "model = NeuralNetwork()\n",
        "\n",
        "# Test the neural network with sample input\n",
        "input_data = torch.tensor([[1., 2.]])\n",
        "output = model(input_data)\n",
        "\n",
        "print(output)"
      ],
      "metadata": {
        "id": "Cj6Yxhe8qgJn",
        "outputId": "92bb5492-390c-4821-dfb5-a1e00f89d3ab",
        "colab": {
          "base_uri": "https://localhost:8080/"
        }
      },
      "execution_count": 2,
      "outputs": [
        {
          "output_type": "stream",
          "name": "stdout",
          "text": [
            "tensor([[-0.0285]], grad_fn=<TanhBackward0>)\n"
          ]
        }
      ]
    }
  ]
}