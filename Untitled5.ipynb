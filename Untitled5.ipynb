{
  "nbformat": 4,
  "nbformat_minor": 0,
  "metadata": {
    "colab": {
      "provenance": []
    },
    "kernelspec": {
      "name": "python3",
      "display_name": "Python 3"
    },
    "language_info": {
      "name": "python"
    }
  },
  "cells": [
    {
      "cell_type": "code",
      "execution_count": 1,
      "metadata": {
        "colab": {
          "base_uri": "https://localhost:8080/"
        },
        "id": "DuglmWQOdn9m",
        "outputId": "924cfdfb-eceb-4455-9b00-d136c436c692"
      },
      "outputs": [
        {
          "output_type": "stream",
          "name": "stdout",
          "text": [
            "Output of the network: 0.6384469270706177\n"
          ]
        }
      ],
      "source": [
        "import torch\n",
        "import torch.nn as nn\n",
        "import torch.optim as optim\n",
        "\n",
        "# Define the neural network class\n",
        "class NeuralNetwork(nn.Module):\n",
        "    def __init__(self):\n",
        "        super(NeuralNetwork, self).__init__()\n",
        "\n",
        "        # 3 input features, 1 hidden neuron\n",
        "        self.hidden_layer = nn.Linear(3, 1)\n",
        "\n",
        "        # 1 hidden neuron, 1 output neuron\n",
        "        self.output_layer = nn.Linear(1, 1)\n",
        "\n",
        "        # Activation function\n",
        "        self.activation = nn.Tanh()\n",
        "\n",
        "        # Initialize weights randomly in the range [-0.5, 0.5]\n",
        "        nn.init.uniform_(self.hidden_layer.weight, -0.5, 0.5)\n",
        "        nn.init.uniform_(self.output_layer.weight, -0.5, 0.5)\n",
        "\n",
        "        # Set biases\n",
        "        self.hidden_layer.bias.data.fill_(0.5)\n",
        "        self.output_layer.bias.data.fill_(0.7)\n",
        "\n",
        "    def forward(self, x):\n",
        "        hidden_output = self.activation(self.hidden_layer(x))\n",
        "        final_output = self.activation(self.output_layer(hidden_output))\n",
        "        return final_output\n",
        "\n",
        "# Create an instance of the neural network\n",
        "model = NeuralNetwork()\n",
        "\n",
        "# Example input features (you can replace with your own data)\n",
        "input_features = torch.tensor([[0.2, 0.4, 0.6]], dtype=torch.float32)\n",
        "\n",
        "# Compute the output of the network\n",
        "output = model(input_features)\n",
        "\n",
        "# Print the output\n",
        "print(\"Output of the network:\", output.item())\n"
      ]
    }
  ]
}